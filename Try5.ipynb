{
 "cells": [
  {
   "cell_type": "code",
   "execution_count": 1,
   "id": "ae977948",
   "metadata": {},
   "outputs": [],
   "source": [
    "import pandas as pd\n",
    "from sklearn.datasets import make_regression\n",
    "from tensorflow.keras.models import Sequential\n",
    "from tensorflow.keras.layers import Dense\n",
    "import geopy.distance\n",
    "import numpy as np\n",
    "import tensorflow as tf\n",
    "from tensorflow.keras.callbacks import *"
   ]
  },
  {
   "cell_type": "code",
   "execution_count": 2,
   "id": "75b52a30",
   "metadata": {},
   "outputs": [],
   "source": [
    "train_file = 'data/out/file_cleaned.csv'\n",
    "test_file = 'data/in/test.csv'\n",
    "\n",
    "train_data = pd.read_csv(train_file)\n",
    "train_data.drop(columns=['Unnamed: 0','Unnamed: 0.1'],axis=1,inplace=True)\n",
    "test_data = pd.read_csv(test_file)"
   ]
  },
  {
   "cell_type": "code",
   "execution_count": 3,
   "id": "b8cc9f58",
   "metadata": {
    "scrolled": true
   },
   "outputs": [
    {
     "data": {
      "text/html": [
       "<div>\n",
       "<style scoped>\n",
       "    .dataframe tbody tr th:only-of-type {\n",
       "        vertical-align: middle;\n",
       "    }\n",
       "\n",
       "    .dataframe tbody tr th {\n",
       "        vertical-align: top;\n",
       "    }\n",
       "\n",
       "    .dataframe thead th {\n",
       "        text-align: right;\n",
       "    }\n",
       "</style>\n",
       "<table border=\"1\" class=\"dataframe\">\n",
       "  <thead>\n",
       "    <tr style=\"text-align: right;\">\n",
       "      <th></th>\n",
       "      <th>id</th>\n",
       "      <th>fecha</th>\n",
       "      <th>latitud_origen</th>\n",
       "      <th>longitud_origen</th>\n",
       "      <th>latitud_destino</th>\n",
       "      <th>longitud_destino</th>\n",
       "      <th>distancia</th>\n",
       "      <th>tiempo</th>\n",
       "      <th>region_origen</th>\n",
       "      <th>region_destino</th>\n",
       "      <th>distancia_km</th>\n",
       "      <th>distancia_api</th>\n",
       "      <th>tiempo_api</th>\n",
       "    </tr>\n",
       "  </thead>\n",
       "  <tbody>\n",
       "    <tr>\n",
       "      <th>0</th>\n",
       "      <td>124092420</td>\n",
       "      <td>2021-07-28</td>\n",
       "      <td>-11.965070</td>\n",
       "      <td>-77.12269</td>\n",
       "      <td>-12.07020</td>\n",
       "      <td>-77.13524</td>\n",
       "      <td>14747.0</td>\n",
       "      <td>1775.0</td>\n",
       "      <td>Callao</td>\n",
       "      <td>Lima</td>\n",
       "      <td>14.747</td>\n",
       "      <td>2449.4</td>\n",
       "      <td>281.1</td>\n",
       "    </tr>\n",
       "    <tr>\n",
       "      <th>1</th>\n",
       "      <td>124091219</td>\n",
       "      <td>2021-07-25</td>\n",
       "      <td>-12.155090</td>\n",
       "      <td>-76.97996</td>\n",
       "      <td>-12.07570</td>\n",
       "      <td>-76.91754</td>\n",
       "      <td>17171.0</td>\n",
       "      <td>1821.0</td>\n",
       "      <td>Lima</td>\n",
       "      <td>Lima</td>\n",
       "      <td>17.171</td>\n",
       "      <td>9842.2</td>\n",
       "      <td>1145.1</td>\n",
       "    </tr>\n",
       "    <tr>\n",
       "      <th>2</th>\n",
       "      <td>124091187</td>\n",
       "      <td>2021-07-25</td>\n",
       "      <td>-14.533770</td>\n",
       "      <td>-75.18460</td>\n",
       "      <td>-14.88630</td>\n",
       "      <td>-74.99414</td>\n",
       "      <td>58708.0</td>\n",
       "      <td>3842.0</td>\n",
       "      <td>Ica</td>\n",
       "      <td>Ica</td>\n",
       "      <td>58.708</td>\n",
       "      <td>44813.5</td>\n",
       "      <td>4059.7</td>\n",
       "    </tr>\n",
       "    <tr>\n",
       "      <th>3</th>\n",
       "      <td>124093495</td>\n",
       "      <td>2021-08-01</td>\n",
       "      <td>-5.201517</td>\n",
       "      <td>-80.64635</td>\n",
       "      <td>-5.38453</td>\n",
       "      <td>-80.62314</td>\n",
       "      <td>23611.0</td>\n",
       "      <td>1446.0</td>\n",
       "      <td>Departamento de Piura</td>\n",
       "      <td>Departamento de Piura</td>\n",
       "      <td>23.611</td>\n",
       "      <td>3328.1</td>\n",
       "      <td>326.1</td>\n",
       "    </tr>\n",
       "    <tr>\n",
       "      <th>4</th>\n",
       "      <td>124092156</td>\n",
       "      <td>2021-07-27</td>\n",
       "      <td>-11.967470</td>\n",
       "      <td>-77.12508</td>\n",
       "      <td>-12.03500</td>\n",
       "      <td>-77.07444</td>\n",
       "      <td>14229.0</td>\n",
       "      <td>1974.0</td>\n",
       "      <td>Callao</td>\n",
       "      <td>Lima</td>\n",
       "      <td>14.229</td>\n",
       "      <td>7593.7</td>\n",
       "      <td>749.9</td>\n",
       "    </tr>\n",
       "  </tbody>\n",
       "</table>\n",
       "</div>"
      ],
      "text/plain": [
       "          id       fecha  latitud_origen  longitud_origen  latitud_destino  \\\n",
       "0  124092420  2021-07-28      -11.965070        -77.12269        -12.07020   \n",
       "1  124091219  2021-07-25      -12.155090        -76.97996        -12.07570   \n",
       "2  124091187  2021-07-25      -14.533770        -75.18460        -14.88630   \n",
       "3  124093495  2021-08-01       -5.201517        -80.64635         -5.38453   \n",
       "4  124092156  2021-07-27      -11.967470        -77.12508        -12.03500   \n",
       "\n",
       "   longitud_destino  distancia  tiempo          region_origen  \\\n",
       "0         -77.13524    14747.0  1775.0                 Callao   \n",
       "1         -76.91754    17171.0  1821.0                   Lima   \n",
       "2         -74.99414    58708.0  3842.0                    Ica   \n",
       "3         -80.62314    23611.0  1446.0  Departamento de Piura   \n",
       "4         -77.07444    14229.0  1974.0                 Callao   \n",
       "\n",
       "          region_destino  distancia_km  distancia_api  tiempo_api  \n",
       "0                   Lima        14.747         2449.4       281.1  \n",
       "1                   Lima        17.171         9842.2      1145.1  \n",
       "2                    Ica        58.708        44813.5      4059.7  \n",
       "3  Departamento de Piura        23.611         3328.1       326.1  \n",
       "4                   Lima        14.229         7593.7       749.9  "
      ]
     },
     "execution_count": 3,
     "metadata": {},
     "output_type": "execute_result"
    }
   ],
   "source": [
    "train_data.head()"
   ]
  },
  {
   "cell_type": "code",
   "execution_count": null,
   "id": "bca4c549",
   "metadata": {},
   "outputs": [],
   "source": [
    "test_data.head()"
   ]
  },
  {
   "cell_type": "code",
   "execution_count": null,
   "id": "9d6acaab",
   "metadata": {},
   "outputs": [],
   "source": [
    "X=train_data.iloc[:,[False,False,True,True,True,True,False,False,True,True,True,True,True]].values\n",
    "y=train_data.iloc[:,6:8].values\n",
    "yhat=test_data.iloc[:,2:].values"
   ]
  },
  {
   "cell_type": "code",
   "execution_count": null,
   "id": "b398983e",
   "metadata": {},
   "outputs": [],
   "source": [
    "from sklearn import preprocessing\n",
    "preprocessing.minmax_scale(X)\n",
    "preprocessing.minmax_scale(yhat)"
   ]
  },
  {
   "cell_type": "code",
   "execution_count": null,
   "id": "7d5e4751",
   "metadata": {},
   "outputs": [],
   "source": [
    "from keras.optimizers import Adam\n",
    "\n",
    "def get_model(n_inputs, n_outputs):\n",
    "    model = Sequential()\n",
    "    model.add(Dense(20, input_dim=n_inputs, kernel_initializer='he_uniform', activation='relu'))\n",
    "    model.add(Dense(n_outputs, kernel_initializer='he_uniform'))\n",
    "    model.compile(loss='mape', optimizer='adam')\n",
    "    return model"
   ]
  },
  {
   "cell_type": "code",
   "execution_count": null,
   "id": "b8438c82",
   "metadata": {},
   "outputs": [],
   "source": [
    "n_inputs, n_outputs = X.shape[1], y.shape[1]\n",
    "print(X.shape[1], y.shape[1])"
   ]
  },
  {
   "cell_type": "code",
   "execution_count": null,
   "id": "76bd3aae",
   "metadata": {},
   "outputs": [],
   "source": [
    "from keras.callbacks import ModelCheckpoint\n",
    "\n",
    "def get_callbacks():\n",
    "    filepath = 'data/out/try5.h5'\n",
    "    callback1 = ModelCheckpoint(filepath, monitor='loss', verbose=1, save_best_only=True, mode='min')\n",
    "    callback2 = CSVLogger('data/out/try5.csv')\n",
    "    \n",
    "    return [callback1,callback2]"
   ]
  },
  {
   "cell_type": "code",
   "execution_count": null,
   "id": "1841e24e",
   "metadata": {},
   "outputs": [],
   "source": [
    "model = get_model(n_inputs, n_outputs)\n",
    "history = model.fit(X, y, verbose=1, epochs=300, validation_split=0.2, callbacks=get_callbacks())"
   ]
  },
  {
   "cell_type": "code",
   "execution_count": null,
   "id": "b107937c",
   "metadata": {},
   "outputs": [],
   "source": [
    "#Cargando el mejor modelo\n",
    "\n",
    "from keras.models import load_model\n",
    "best_model_tf = load_model('data/out/try5.h5')\n",
    "\n",
    "ypred = best_model_tf.predict(yhat)"
   ]
  },
  {
   "cell_type": "code",
   "execution_count": null,
   "id": "89dc9def",
   "metadata": {},
   "outputs": [],
   "source": [
    "print(ypred)"
   ]
  },
  {
   "cell_type": "code",
   "execution_count": null,
   "id": "d8453e72",
   "metadata": {},
   "outputs": [],
   "source": [
    "best_model_tf.evaluate(X,y)"
   ]
  },
  {
   "cell_type": "code",
   "execution_count": null,
   "id": "278b5ab0",
   "metadata": {},
   "outputs": [],
   "source": [
    "ids = pd.read_csv(test_file)\n",
    "ids_1 = ids['ID']"
   ]
  },
  {
   "cell_type": "code",
   "execution_count": null,
   "id": "a04291bb",
   "metadata": {},
   "outputs": [],
   "source": [
    "df = pd.DataFrame()\n",
    "df['ID'] = ids_1\n",
    "df['DISTANCIA'] = ypred[:,0]\n",
    "df['TIEMPO'] = ypred[:,1]\n",
    "print(df)"
   ]
  },
  {
   "cell_type": "code",
   "execution_count": null,
   "id": "0f8443a3",
   "metadata": {},
   "outputs": [],
   "source": [
    "df.to_csv('data/out/try5_out.csv',index=False)"
   ]
  },
  {
   "cell_type": "code",
   "execution_count": null,
   "id": "a8de1515",
   "metadata": {},
   "outputs": [],
   "source": [
    "#Graficar Epochs\n",
    "\n",
    "import matplotlib.pyplot as plt\n",
    "import seaborn as sns\n",
    "sns.set()\n",
    "loss = history.history['loss']\n",
    "val_loss = history.history['val_loss']\n",
    "\n",
    "epochs = range(0,len(loss))\n",
    "fig = plt.gcf()\n",
    "fig.set_size_inches(16, 8)\n",
    "\n",
    "fig = plt.gcf()\n",
    "fig.set_size_inches(16, 8)\n",
    "plt.plot(epochs, loss, 'r', label='Training Loss',marker = \"o\")\n",
    "plt.plot(epochs, val_loss, 'b', label='Validation Loss',marker = \"o\")\n",
    "plt.title('Training and validation Loss')\n",
    "plt.legend(loc=0)\n",
    "#plt.savefig('Multiclass Model .png')\n",
    "plt.figure()\n",
    "plt.show()"
   ]
  },
  {
   "cell_type": "code",
   "execution_count": null,
   "id": "74be5371",
   "metadata": {},
   "outputs": [],
   "source": []
  }
 ],
 "metadata": {
  "kernelspec": {
   "display_name": "Python 3",
   "language": "python",
   "name": "python3"
  },
  "language_info": {
   "codemirror_mode": {
    "name": "ipython",
    "version": 3
   },
   "file_extension": ".py",
   "mimetype": "text/x-python",
   "name": "python",
   "nbconvert_exporter": "python",
   "pygments_lexer": "ipython3",
   "version": "3.8.5"
  }
 },
 "nbformat": 4,
 "nbformat_minor": 5
}
