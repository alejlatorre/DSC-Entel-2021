{
 "cells": [
  {
   "cell_type": "code",
   "execution_count": 1,
   "id": "ae977948",
   "metadata": {},
   "outputs": [],
   "source": [
    "import pandas as pd\n",
    "from sklearn.datasets import make_regression\n",
    "from keras.models import Sequential\n",
    "from keras.layers import Dense\n",
    "import geopy.distance\n",
    "import numpy as np"
   ]
  },
  {
   "cell_type": "code",
   "execution_count": 2,
   "id": "75b52a30",
   "metadata": {},
   "outputs": [],
   "source": [
    "train_file = 'data/in/train.csv'\n",
    "test_file = 'data/in/test.csv'\n",
    "\n",
    "train_data = pd.read_csv(train_file,index_col=0)\n",
    "test_data = pd.read_csv(test_file,index_col=0)"
   ]
  },
  {
   "cell_type": "code",
   "execution_count": 3,
   "id": "b8cc9f58",
   "metadata": {},
   "outputs": [
    {
     "data": {
      "text/html": [
       "<div>\n",
       "<style scoped>\n",
       "    .dataframe tbody tr th:only-of-type {\n",
       "        vertical-align: middle;\n",
       "    }\n",
       "\n",
       "    .dataframe tbody tr th {\n",
       "        vertical-align: top;\n",
       "    }\n",
       "\n",
       "    .dataframe thead th {\n",
       "        text-align: right;\n",
       "    }\n",
       "</style>\n",
       "<table border=\"1\" class=\"dataframe\">\n",
       "  <thead>\n",
       "    <tr style=\"text-align: right;\">\n",
       "      <th></th>\n",
       "      <th>FECHA</th>\n",
       "      <th>LATITUD_ORIGEN</th>\n",
       "      <th>LONGITUD_ORIGEN</th>\n",
       "      <th>LATITUD_DESTINO</th>\n",
       "      <th>LONGITUD_DESTINO</th>\n",
       "      <th>DISTANCIA</th>\n",
       "      <th>TIEMPO</th>\n",
       "    </tr>\n",
       "    <tr>\n",
       "      <th>ID</th>\n",
       "      <th></th>\n",
       "      <th></th>\n",
       "      <th></th>\n",
       "      <th></th>\n",
       "      <th></th>\n",
       "      <th></th>\n",
       "      <th></th>\n",
       "    </tr>\n",
       "  </thead>\n",
       "  <tbody>\n",
       "    <tr>\n",
       "      <th>124092420</th>\n",
       "      <td>2021-07-28</td>\n",
       "      <td>-11.965070</td>\n",
       "      <td>-77.12269</td>\n",
       "      <td>-12.07020</td>\n",
       "      <td>-77.13524</td>\n",
       "      <td>14747.0</td>\n",
       "      <td>1775.0</td>\n",
       "    </tr>\n",
       "    <tr>\n",
       "      <th>124091219</th>\n",
       "      <td>2021-07-25</td>\n",
       "      <td>-12.155090</td>\n",
       "      <td>-76.97996</td>\n",
       "      <td>-12.07570</td>\n",
       "      <td>-76.91754</td>\n",
       "      <td>17171.0</td>\n",
       "      <td>1821.0</td>\n",
       "    </tr>\n",
       "    <tr>\n",
       "      <th>124091187</th>\n",
       "      <td>2021-07-25</td>\n",
       "      <td>-14.533770</td>\n",
       "      <td>-75.18460</td>\n",
       "      <td>-14.88630</td>\n",
       "      <td>-74.99414</td>\n",
       "      <td>58708.0</td>\n",
       "      <td>3842.0</td>\n",
       "    </tr>\n",
       "    <tr>\n",
       "      <th>124093495</th>\n",
       "      <td>2021-08-01</td>\n",
       "      <td>-5.201517</td>\n",
       "      <td>-80.64635</td>\n",
       "      <td>-5.38453</td>\n",
       "      <td>-80.62314</td>\n",
       "      <td>23611.0</td>\n",
       "      <td>1446.0</td>\n",
       "    </tr>\n",
       "    <tr>\n",
       "      <th>124092156</th>\n",
       "      <td>2021-07-27</td>\n",
       "      <td>-11.967470</td>\n",
       "      <td>-77.12508</td>\n",
       "      <td>-12.03500</td>\n",
       "      <td>-77.07444</td>\n",
       "      <td>14229.0</td>\n",
       "      <td>1974.0</td>\n",
       "    </tr>\n",
       "  </tbody>\n",
       "</table>\n",
       "</div>"
      ],
      "text/plain": [
       "                FECHA  LATITUD_ORIGEN  LONGITUD_ORIGEN  LATITUD_DESTINO  \\\n",
       "ID                                                                        \n",
       "124092420  2021-07-28      -11.965070        -77.12269        -12.07020   \n",
       "124091219  2021-07-25      -12.155090        -76.97996        -12.07570   \n",
       "124091187  2021-07-25      -14.533770        -75.18460        -14.88630   \n",
       "124093495  2021-08-01       -5.201517        -80.64635         -5.38453   \n",
       "124092156  2021-07-27      -11.967470        -77.12508        -12.03500   \n",
       "\n",
       "           LONGITUD_DESTINO  DISTANCIA  TIEMPO  \n",
       "ID                                              \n",
       "124092420         -77.13524    14747.0  1775.0  \n",
       "124091219         -76.91754    17171.0  1821.0  \n",
       "124091187         -74.99414    58708.0  3842.0  \n",
       "124093495         -80.62314    23611.0  1446.0  \n",
       "124092156         -77.07444    14229.0  1974.0  "
      ]
     },
     "execution_count": 3,
     "metadata": {},
     "output_type": "execute_result"
    }
   ],
   "source": [
    "train_data.head()"
   ]
  },
  {
   "cell_type": "code",
   "execution_count": 4,
   "id": "89838cac",
   "metadata": {},
   "outputs": [],
   "source": [
    "la_orig = train_data['LATITUD_ORIGEN'].values\n",
    "lo_orig = train_data['LONGITUD_ORIGEN'].values\n",
    "la_dest = train_data['LATITUD_DESTINO'].values\n",
    "lo_dest = train_data['LONGITUD_DESTINO'].values\n",
    "\n",
    "distances = []\n",
    "for la1, lo1, la2, lo2 in zip(la_orig,lo_orig,la_dest,lo_dest):\n",
    "    dist = geopy.distance.distance((la1,lo1),(la2,lo2)).m\n",
    "    distances.append(dist)\n",
    "\n",
    "train_data['EARTH_DISTANCE'] = distances"
   ]
  },
  {
   "cell_type": "code",
   "execution_count": 5,
   "id": "9569fb32",
   "metadata": {},
   "outputs": [
    {
     "data": {
      "text/html": [
       "<div>\n",
       "<style scoped>\n",
       "    .dataframe tbody tr th:only-of-type {\n",
       "        vertical-align: middle;\n",
       "    }\n",
       "\n",
       "    .dataframe tbody tr th {\n",
       "        vertical-align: top;\n",
       "    }\n",
       "\n",
       "    .dataframe thead th {\n",
       "        text-align: right;\n",
       "    }\n",
       "</style>\n",
       "<table border=\"1\" class=\"dataframe\">\n",
       "  <thead>\n",
       "    <tr style=\"text-align: right;\">\n",
       "      <th></th>\n",
       "      <th>FECHA</th>\n",
       "      <th>LATITUD_ORIGEN</th>\n",
       "      <th>LONGITUD_ORIGEN</th>\n",
       "      <th>LATITUD_DESTINO</th>\n",
       "      <th>LONGITUD_DESTINO</th>\n",
       "      <th>DISTANCIA</th>\n",
       "      <th>TIEMPO</th>\n",
       "      <th>EARTH_DISTANCE</th>\n",
       "    </tr>\n",
       "    <tr>\n",
       "      <th>ID</th>\n",
       "      <th></th>\n",
       "      <th></th>\n",
       "      <th></th>\n",
       "      <th></th>\n",
       "      <th></th>\n",
       "      <th></th>\n",
       "      <th></th>\n",
       "      <th></th>\n",
       "    </tr>\n",
       "  </thead>\n",
       "  <tbody>\n",
       "    <tr>\n",
       "      <th>124092420</th>\n",
       "      <td>2021-07-28</td>\n",
       "      <td>-11.965070</td>\n",
       "      <td>-77.12269</td>\n",
       "      <td>-12.07020</td>\n",
       "      <td>-77.13524</td>\n",
       "      <td>14747.0</td>\n",
       "      <td>1775.0</td>\n",
       "      <td>11709.759288</td>\n",
       "    </tr>\n",
       "    <tr>\n",
       "      <th>124091219</th>\n",
       "      <td>2021-07-25</td>\n",
       "      <td>-12.155090</td>\n",
       "      <td>-76.97996</td>\n",
       "      <td>-12.07570</td>\n",
       "      <td>-76.91754</td>\n",
       "      <td>17171.0</td>\n",
       "      <td>1821.0</td>\n",
       "      <td>11104.026667</td>\n",
       "    </tr>\n",
       "    <tr>\n",
       "      <th>124091187</th>\n",
       "      <td>2021-07-25</td>\n",
       "      <td>-14.533770</td>\n",
       "      <td>-75.18460</td>\n",
       "      <td>-14.88630</td>\n",
       "      <td>-74.99414</td>\n",
       "      <td>58708.0</td>\n",
       "      <td>3842.0</td>\n",
       "      <td>44070.222890</td>\n",
       "    </tr>\n",
       "    <tr>\n",
       "      <th>124093495</th>\n",
       "      <td>2021-08-01</td>\n",
       "      <td>-5.201517</td>\n",
       "      <td>-80.64635</td>\n",
       "      <td>-5.38453</td>\n",
       "      <td>-80.62314</td>\n",
       "      <td>23611.0</td>\n",
       "      <td>1446.0</td>\n",
       "      <td>20401.135922</td>\n",
       "    </tr>\n",
       "    <tr>\n",
       "      <th>124092156</th>\n",
       "      <td>2021-07-27</td>\n",
       "      <td>-11.967470</td>\n",
       "      <td>-77.12508</td>\n",
       "      <td>-12.03500</td>\n",
       "      <td>-77.07444</td>\n",
       "      <td>14229.0</td>\n",
       "      <td>1974.0</td>\n",
       "      <td>9285.408508</td>\n",
       "    </tr>\n",
       "  </tbody>\n",
       "</table>\n",
       "</div>"
      ],
      "text/plain": [
       "                FECHA  LATITUD_ORIGEN  LONGITUD_ORIGEN  LATITUD_DESTINO  \\\n",
       "ID                                                                        \n",
       "124092420  2021-07-28      -11.965070        -77.12269        -12.07020   \n",
       "124091219  2021-07-25      -12.155090        -76.97996        -12.07570   \n",
       "124091187  2021-07-25      -14.533770        -75.18460        -14.88630   \n",
       "124093495  2021-08-01       -5.201517        -80.64635         -5.38453   \n",
       "124092156  2021-07-27      -11.967470        -77.12508        -12.03500   \n",
       "\n",
       "           LONGITUD_DESTINO  DISTANCIA  TIEMPO  EARTH_DISTANCE  \n",
       "ID                                                              \n",
       "124092420         -77.13524    14747.0  1775.0    11709.759288  \n",
       "124091219         -76.91754    17171.0  1821.0    11104.026667  \n",
       "124091187         -74.99414    58708.0  3842.0    44070.222890  \n",
       "124093495         -80.62314    23611.0  1446.0    20401.135922  \n",
       "124092156         -77.07444    14229.0  1974.0     9285.408508  "
      ]
     },
     "execution_count": 5,
     "metadata": {},
     "output_type": "execute_result"
    }
   ],
   "source": [
    "train_data.head()"
   ]
  },
  {
   "cell_type": "code",
   "execution_count": 6,
   "id": "b1236cb5",
   "metadata": {},
   "outputs": [],
   "source": [
    "la_orig = test_data['LATITUD_ORIGEN'].values\n",
    "lo_orig = test_data['LONGITUD_ORIGEN'].values\n",
    "la_dest = test_data['LATITUD_DESTINO'].values\n",
    "lo_dest = test_data['LONGITUD_DESTINO'].values\n",
    "\n",
    "distances = []\n",
    "for la1, lo1, la2, lo2 in zip(la_orig,lo_orig,la_dest,lo_dest):\n",
    "    dist = geopy.distance.distance((la1,lo1),(la2,lo2)).m\n",
    "    distances.append(dist)\n",
    "\n",
    "test_data['EARTH_DISTANCE'] = distances"
   ]
  },
  {
   "cell_type": "code",
   "execution_count": 7,
   "id": "bca4c549",
   "metadata": {},
   "outputs": [
    {
     "data": {
      "text/html": [
       "<div>\n",
       "<style scoped>\n",
       "    .dataframe tbody tr th:only-of-type {\n",
       "        vertical-align: middle;\n",
       "    }\n",
       "\n",
       "    .dataframe tbody tr th {\n",
       "        vertical-align: top;\n",
       "    }\n",
       "\n",
       "    .dataframe thead th {\n",
       "        text-align: right;\n",
       "    }\n",
       "</style>\n",
       "<table border=\"1\" class=\"dataframe\">\n",
       "  <thead>\n",
       "    <tr style=\"text-align: right;\">\n",
       "      <th></th>\n",
       "      <th>FECHA</th>\n",
       "      <th>LATITUD_ORIGEN</th>\n",
       "      <th>LONGITUD_ORIGEN</th>\n",
       "      <th>LATITUD_DESTINO</th>\n",
       "      <th>LONGITUD_DESTINO</th>\n",
       "      <th>EARTH_DISTANCE</th>\n",
       "    </tr>\n",
       "    <tr>\n",
       "      <th>ID</th>\n",
       "      <th></th>\n",
       "      <th></th>\n",
       "      <th></th>\n",
       "      <th></th>\n",
       "      <th></th>\n",
       "      <th></th>\n",
       "    </tr>\n",
       "  </thead>\n",
       "  <tbody>\n",
       "    <tr>\n",
       "      <th>124089165</th>\n",
       "      <td>2021-07-20</td>\n",
       "      <td>-12.781050</td>\n",
       "      <td>-74.99228</td>\n",
       "      <td>-12.76703</td>\n",
       "      <td>-74.64612</td>\n",
       "      <td>37618.751360</td>\n",
       "    </tr>\n",
       "    <tr>\n",
       "      <th>124093149</th>\n",
       "      <td>2021-07-31</td>\n",
       "      <td>-7.140513</td>\n",
       "      <td>-78.51395</td>\n",
       "      <td>-7.58284</td>\n",
       "      <td>-78.07524</td>\n",
       "      <td>68841.223973</td>\n",
       "    </tr>\n",
       "    <tr>\n",
       "      <th>124090750</th>\n",
       "      <td>2021-07-24</td>\n",
       "      <td>-12.010250</td>\n",
       "      <td>-77.11206</td>\n",
       "      <td>-11.99380</td>\n",
       "      <td>-77.02614</td>\n",
       "      <td>9532.156469</td>\n",
       "    </tr>\n",
       "    <tr>\n",
       "      <th>124092491</th>\n",
       "      <td>2021-07-29</td>\n",
       "      <td>-12.155750</td>\n",
       "      <td>-76.97977</td>\n",
       "      <td>-12.22090</td>\n",
       "      <td>-76.91364</td>\n",
       "      <td>10185.051111</td>\n",
       "    </tr>\n",
       "    <tr>\n",
       "      <th>124091871</th>\n",
       "      <td>2021-07-27</td>\n",
       "      <td>-12.114920</td>\n",
       "      <td>-77.04678</td>\n",
       "      <td>-12.07910</td>\n",
       "      <td>-77.11724</td>\n",
       "      <td>8633.569104</td>\n",
       "    </tr>\n",
       "  </tbody>\n",
       "</table>\n",
       "</div>"
      ],
      "text/plain": [
       "                FECHA  LATITUD_ORIGEN  LONGITUD_ORIGEN  LATITUD_DESTINO  \\\n",
       "ID                                                                        \n",
       "124089165  2021-07-20      -12.781050        -74.99228        -12.76703   \n",
       "124093149  2021-07-31       -7.140513        -78.51395         -7.58284   \n",
       "124090750  2021-07-24      -12.010250        -77.11206        -11.99380   \n",
       "124092491  2021-07-29      -12.155750        -76.97977        -12.22090   \n",
       "124091871  2021-07-27      -12.114920        -77.04678        -12.07910   \n",
       "\n",
       "           LONGITUD_DESTINO  EARTH_DISTANCE  \n",
       "ID                                           \n",
       "124089165         -74.64612    37618.751360  \n",
       "124093149         -78.07524    68841.223973  \n",
       "124090750         -77.02614     9532.156469  \n",
       "124092491         -76.91364    10185.051111  \n",
       "124091871         -77.11724     8633.569104  "
      ]
     },
     "execution_count": 7,
     "metadata": {},
     "output_type": "execute_result"
    }
   ],
   "source": [
    "test_data.head()"
   ]
  },
  {
   "cell_type": "code",
   "execution_count": 8,
   "id": "9d6acaab",
   "metadata": {},
   "outputs": [],
   "source": [
    "X=train_data.iloc[:,[False,True,True,True,True,False,False,True]].values\n",
    "y=train_data.iloc[:,5:-1].values\n",
    "yhat=test_data.iloc[:,1:].values"
   ]
  },
  {
   "cell_type": "code",
   "execution_count": 9,
   "id": "b398983e",
   "metadata": {},
   "outputs": [
    {
     "data": {
      "text/plain": [
       "array([[0.36037929, 0.52007466, 0.36614227, 0.54753148, 0.03653944],\n",
       "       [0.74842017, 0.22806174, 0.72358461, 0.26564229, 0.06726531],\n",
       "       [0.4134065 , 0.34430488, 0.41945535, 0.35188306, 0.00889957],\n",
       "       ...,\n",
       "       [0.40340095, 0.3552709 , 0.41559216, 0.34470825, 0.01789533],\n",
       "       [0.40340026, 0.3552709 , 0.42098601, 0.39107818, 0.04980804],\n",
       "       [0.15010318, 0.93230005, 0.23882396, 0.90311374, 0.13651709]])"
      ]
     },
     "execution_count": 9,
     "metadata": {},
     "output_type": "execute_result"
    }
   ],
   "source": [
    "from sklearn import preprocessing\n",
    "preprocessing.minmax_scale(X)\n",
    "preprocessing.minmax_scale(yhat)"
   ]
  },
  {
   "cell_type": "code",
   "execution_count": 10,
   "id": "7d5e4751",
   "metadata": {},
   "outputs": [],
   "source": [
    "def get_model(n_inputs, n_outputs):\n",
    "    model = Sequential()\n",
    "    model.add(Dense(20, input_dim=n_inputs, kernel_initializer='he_uniform', activation='relu'))\n",
    "    model.add(Dense(n_outputs, kernel_initializer='he_uniform'))\n",
    "    model.compile(loss='mape', optimizer='adam')\n",
    "    return model"
   ]
  },
  {
   "cell_type": "code",
   "execution_count": 11,
   "id": "b8438c82",
   "metadata": {},
   "outputs": [
    {
     "name": "stdout",
     "output_type": "stream",
     "text": [
      "5 2\n"
     ]
    }
   ],
   "source": [
    "n_inputs, n_outputs = X.shape[1], y.shape[1]\n",
    "print(X.shape[1], y.shape[1])"
   ]
  },
  {
   "cell_type": "code",
   "execution_count": 12,
   "id": "62a5560a",
   "metadata": {},
   "outputs": [],
   "source": [
    "model = get_model(n_inputs, n_outputs)"
   ]
  },
  {
   "cell_type": "code",
   "execution_count": 13,
   "id": "1841e24e",
   "metadata": {},
   "outputs": [],
   "source": [
    "history = model.fit(X, y, verbose=0, epochs=200)"
   ]
  },
  {
   "cell_type": "code",
   "execution_count": 14,
   "id": "b107937c",
   "metadata": {},
   "outputs": [],
   "source": [
    "ypred = model.predict(yhat)"
   ]
  },
  {
   "cell_type": "code",
   "execution_count": 15,
   "id": "89dc9def",
   "metadata": {},
   "outputs": [
    {
     "name": "stdout",
     "output_type": "stream",
     "text": [
      "[[ 49808.57     3749.255 ]\n",
      " [ 90937.14     6017.9556]\n",
      " [ 12792.947    1563.3795]\n",
      " ...\n",
      " [ 24849.611    2367.875 ]\n",
      " [ 67576.234    4755.1216]\n",
      " [183663.17    11222.843 ]]\n"
     ]
    }
   ],
   "source": [
    "print(ypred)"
   ]
  },
  {
   "cell_type": "code",
   "execution_count": 16,
   "id": "d8453e72",
   "metadata": {},
   "outputs": [
    {
     "name": "stdout",
     "output_type": "stream",
     "text": [
      "63/63 [==============================] - 0s 452us/step - loss: 18.7464\n"
     ]
    },
    {
     "data": {
      "text/plain": [
       "18.746431350708008"
      ]
     },
     "execution_count": 16,
     "metadata": {},
     "output_type": "execute_result"
    }
   ],
   "source": [
    "model.evaluate(X,y)"
   ]
  },
  {
   "cell_type": "code",
   "execution_count": 17,
   "id": "278b5ab0",
   "metadata": {},
   "outputs": [],
   "source": [
    "ids = pd.read_csv(test_file)\n",
    "ids_1 = ids['ID']"
   ]
  },
  {
   "cell_type": "code",
   "execution_count": 18,
   "id": "a04291bb",
   "metadata": {},
   "outputs": [
    {
     "name": "stdout",
     "output_type": "stream",
     "text": [
      "            ID      DISTANCIA        TIEMPO\n",
      "0    124089165   49808.570312   3749.254883\n",
      "1    124093149   90937.140625   6017.955566\n",
      "2    124090750   12792.947266   1563.379517\n",
      "3    124092491   13655.318359   1631.398071\n",
      "4    124091871   11606.814453   1471.943481\n",
      "..         ...            ...           ...\n",
      "847  124088805   13309.388672   1603.223999\n",
      "848  124089757   11564.927734   1468.220459\n",
      "849  124089569   24849.611328   2367.875000\n",
      "850  124092518   67576.234375   4755.121582\n",
      "851  124090644  183663.171875  11222.842773\n",
      "\n",
      "[852 rows x 3 columns]\n"
     ]
    }
   ],
   "source": [
    "df = pd.DataFrame()\n",
    "df['ID'] = ids_1\n",
    "df['DISTANCIA'] = ypred[:,0]\n",
    "df['TIEMPO'] = ypred[:,1]\n",
    "print(df)"
   ]
  },
  {
   "cell_type": "code",
   "execution_count": 19,
   "id": "62469b56",
   "metadata": {},
   "outputs": [],
   "source": [
    "df.to_csv('data/out/try2.csv',index=False)"
   ]
  },
  {
   "cell_type": "code",
   "execution_count": 20,
   "id": "d4677af6",
   "metadata": {},
   "outputs": [],
   "source": [
    "model.save('data/out/try2.h5')"
   ]
  },
  {
   "cell_type": "code",
   "execution_count": null,
   "id": "a8de1515",
   "metadata": {},
   "outputs": [],
   "source": []
  }
 ],
 "metadata": {
  "kernelspec": {
   "display_name": "Python 3",
   "language": "python",
   "name": "python3"
  },
  "language_info": {
   "codemirror_mode": {
    "name": "ipython",
    "version": 3
   },
   "file_extension": ".py",
   "mimetype": "text/x-python",
   "name": "python",
   "nbconvert_exporter": "python",
   "pygments_lexer": "ipython3",
   "version": "3.8.5"
  }
 },
 "nbformat": 4,
 "nbformat_minor": 5
}
